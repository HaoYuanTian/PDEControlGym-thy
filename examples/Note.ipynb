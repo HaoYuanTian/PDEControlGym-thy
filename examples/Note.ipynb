{
 "cells": [
  {
   "cell_type": "code",
   "execution_count": 1,
   "id": "f242ec3e",
   "metadata": {},
   "outputs": [
    {
     "name": "stdout",
     "output_type": "stream",
     "text": [
      "envs initialized\n"
     ]
    }
   ],
   "source": [
    "import numpy as np\n",
    "import pde_control_gym\n",
    "from pde_control_gym.src import *"
   ]
  },
  {
   "cell_type": "code",
   "execution_count": 9,
   "id": "afeffa68",
   "metadata": {},
   "outputs": [
    {
     "name": "stdout",
     "output_type": "stream",
     "text": [
      "Index: 0, Value: 0.0\n",
      "Index: 1, Value: 2.5\n",
      "Index: 2, Value: 5.0\n",
      "Index: 3, Value: 7.5\n",
      "Index: 4, Value: 10.0\n"
     ]
    }
   ],
   "source": [
    "# enumerate 是 Python 的一个内置函数，用于为可迭代对象（如列表、元组或字符串）添加索引。\n",
    "# 它返回一个迭代器，每次迭代会生成一个包含索引和对应元素的元组。\n",
    "x = np.linspace(0, 10, 5)\n",
    "for idx, val in enumerate(x):\n",
    "    print(f\"Index: {idx}, Value: {val}\")"
   ]
  },
  {
   "cell_type": "code",
   "execution_count": 10,
   "id": "a0739812",
   "metadata": {},
   "outputs": [
    {
     "name": "stdout",
     "output_type": "stream",
     "text": [
      "Test class initialized\n",
      "Test2 class initialized\n",
      "c: 3, d: 4\n",
      "kwargs: {'a': 1, 'b': 2}\n"
     ]
    },
    {
     "data": {
      "text/plain": [
       "1"
      ]
     },
     "execution_count": 10,
     "metadata": {},
     "output_type": "execute_result"
    }
   ],
   "source": [
    "# 父类和子类\n",
    "class Test:\n",
    "    def __init__(self, a, b):\n",
    "        self.a = a\n",
    "        self.b = b\n",
    "        print(\"Test class initialized\")\n",
    "\n",
    "class Test2(Test):\n",
    "    # **，表示：“将多余的关键字参数收集为一个字典”\n",
    "    def __init__(self, c, d, **kwargs):\n",
    "        # super() 是一个内置函数，用于返回当前类的父类对象，从而可以调用父类的方法或属性。\n",
    "        # 在构造函数中，super().__init__() 的作用是调用父类的构造函数，确保父类的初始化逻辑被执行。\n",
    "        super().__init__(**kwargs)\n",
    "        print(\"Test2 class initialized\")\n",
    "        self.c = c\n",
    "        self.d = d\n",
    "        print(f\"c: {self.c}, d: {self.d}\")\n",
    "        print(f\"kwargs: {kwargs}\")\n",
    "dic = {\"a\": 1, \"b\": 2, \"c\": 3, \"d\": 4}\n",
    "test = Test2(**dic)\n",
    "# 证明父类的属性也可以被子类访问\n",
    "test.a\n"
   ]
  }
 ],
 "metadata": {
  "kernelspec": {
   "display_name": "PDEgym",
   "language": "python",
   "name": "python3"
  },
  "language_info": {
   "codemirror_mode": {
    "name": "ipython",
    "version": 3
   },
   "file_extension": ".py",
   "mimetype": "text/x-python",
   "name": "python",
   "nbconvert_exporter": "python",
   "pygments_lexer": "ipython3",
   "version": "3.11.11"
  }
 },
 "nbformat": 4,
 "nbformat_minor": 5
}
